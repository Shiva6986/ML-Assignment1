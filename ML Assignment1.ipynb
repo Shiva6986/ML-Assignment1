{
 "cells": [
  {
   "cell_type": "code",
   "execution_count": 1,
   "id": "3a2572ce",
   "metadata": {},
   "outputs": [
    {
     "name": "stdout",
     "output_type": "stream",
     "text": [
      "Min Age = 19 Max age = 26\n",
      "Median =  24.0\n",
      "Average =  22.8\n",
      "Range =  7\n"
     ]
    }
   ],
   "source": [
    "import statistics\n",
    "ages = [19,22, 19, 24, 20, 25, 26, 24, 25, 24]\n",
    "\n",
    "ages.sort()\n",
    "\n",
    "print(\"Min Age =\",ages[0],\"Max age =\",ages[-1])\n",
    "print(\"Median = \",statistics.median(ages))\n",
    "print(\"Average = \",sum(ages)/len(ages))\n",
    "print(\"Range = \",max(ages)-min(ages))"
   ]
  },
  {
   "cell_type": "code",
   "execution_count": 2,
   "id": "906ea890",
   "metadata": {},
   "outputs": [
    {
     "name": "stdout",
     "output_type": "stream",
     "text": [
      "9\n",
      "['Python', 'ML', 'Java', 'AI'] <class 'list'>\n",
      "dict_keys(['first_name', 'last_name', 'gender', 'age', 'marital_status', 'skills', 'country', 'city', 'address'])\n",
      "dict_values(['Sai Kiran', 'Ande', 'male', 25, 'Unmarried', ['Python', 'ML', 'Java', 'AI', 'Pulihora', 'Cooking'], 'India', 'Vijayawada', 'Poranki'])\n"
     ]
    }
   ],
   "source": [
    "dog = {\"name\":\"Chotu\", \"color\":\"Black\", \"breed\":\"Rottwiller\", \"legs\":4, \"age\":3}\n",
    "student = { \"first_name\":\"Sai Kiran\", \"last_name\":\"Ande\", \"gender\":\"male\", \"age\":25, \"marital_status\":\"Unmarried\", \"skills\":[\"Python\",\"ML\",\"Java\",\"AI\"], \"country\":\"India\", \"city\":\"Vijayawada\", \"address\":\"Poranki\"}\n",
    "\n",
    "print(len(student))\n",
    "print(student[\"skills\"],type(student[\"skills\"]))\n",
    "student[\"skills\"].append(\"Pulihora\")\n",
    "student[\"skills\"].append(\"Cooking\")\n",
    "print(student.keys())\n",
    "print(student.values())"
   ]
  },
  {
   "cell_type": "code",
   "execution_count": 3,
   "id": "08fbf55d",
   "metadata": {},
   "outputs": [
    {
     "name": "stdout",
     "output_type": "stream",
     "text": [
      "('Ramu', 'Somu', 'Naga babu', 'Manisha', 'Anisha', 'Anusha', 'Divya')\n"
     ]
    }
   ],
   "source": [
    "brothers = (\"Ramu\",\"Somu\",\"Naga babu\")\n",
    "sisters = (\"Manisha\",\"Anisha\",\"Anusha\",\"Divya\")\n",
    "siblings = brothers+sisters\n",
    "print(siblings)"
   ]
  },
  {
   "cell_type": "code",
   "execution_count": 4,
   "id": "41887208",
   "metadata": {},
   "outputs": [
    {
     "name": "stdout",
     "output_type": "stream",
     "text": [
      "Length of it_companies = 7\n",
      "{19, 20, 22, 24, 25, 26, 27, 28}\n",
      "{19, 20, 22, 24, 25, 26}\n",
      "True\n",
      "{27, 28}\n",
      "True\n"
     ]
    }
   ],
   "source": [
    "it_companies = {'Facebook', 'Google', 'Microsoft', 'Apple', 'IBM', 'Oracle', 'Amazon'}\n",
    "A = {19, 22, 24, 20, 25, 26}\n",
    "B = {19, 22, 20, 25, 26, 24, 28, 27}\n",
    "age = [22, 19, 24, 25, 26, 24, 25, 24]\n",
    "\n",
    "print(\"Length of it_companies =\",len(it_companies))\n",
    "\n",
    "it_companies.add(\"Twitter\")\n",
    "\n",
    "it_companies.update({\"TCS\",\"Accenture\"})\n",
    "\n",
    "it_companies.remove(\"Accenture\")\n",
    "\n",
    "print(A|B)\n",
    "print(A.intersection(B))\n",
    "print(A.issubset(B))\n",
    "print(A.symmetric_difference(B))\n",
    "del A,B\n",
    "age_set = set(age)\n",
    "print(len(age_set)<len(age))\n",
    "#print(it_companies)"
   ]
  },
  {
   "cell_type": "code",
   "execution_count": 5,
   "id": "5bfcafbd",
   "metadata": {},
   "outputs": [
    {
     "name": "stdout",
     "output_type": "stream",
     "text": [
      "enter r:30\n",
      "Area of Circle: 2826.0\n",
      "Circumference of Circle: 188.4\n"
     ]
    }
   ],
   "source": [
    "r = int(input(\"enter r:\"))\n",
    "# Calculate area of circle and circumference of circle\n",
    "_area_of_circle = 3.14*r*r \n",
    "_circum_of_circle = 2*3.14*r\n",
    "# Display area of circle and circumference of circle\n",
    "print(\"Area of Circle:\",_area_of_circle)\n",
    "print(\"Circumference of Circle:\",_circum_of_circle)"
   ]
  },
  {
   "cell_type": "code",
   "execution_count": 6,
   "id": "5ce0b1b2",
   "metadata": {},
   "outputs": [
    {
     "name": "stdout",
     "output_type": "stream",
     "text": [
      "{'people', 'love', 'and', 'inspire', 'teach', 'am', 'I', 'a', 'teacher', 'to'}\n",
      "10\n"
     ]
    }
   ],
   "source": [
    "s =\"I am a teacher and I love to inspire and teach people\"\n",
    "l=set(s.split(\" \"))\n",
    "print(l)\n",
    "print(len(l))"
   ]
  },
  {
   "cell_type": "code",
   "execution_count": 7,
   "id": "c8373abb",
   "metadata": {},
   "outputs": [
    {
     "name": "stdout",
     "output_type": "stream",
     "text": [
      "Name\t\tAge\tCountry\t\tCity\n",
      "Asabeneh\t250\tFinland\t\tHelsinki\n"
     ]
    }
   ],
   "source": [
    "print(\"Name\\t\\tAge\\tCountry\\t\\tCity\")\n",
    "print(\"Asabeneh\\t250\\tFinland\\t\\tHelsinki\")"
   ]
  },
  {
   "cell_type": "code",
   "execution_count": 8,
   "id": "5d3e2f77",
   "metadata": {},
   "outputs": [
    {
     "name": "stdout",
     "output_type": "stream",
     "text": [
      "Radius = 10\n",
      "area = 3.14 * radius ** 2\n",
      "The area of a circle with radius 10 is 314 meters square.\n"
     ]
    }
   ],
   "source": [
    "radius = 10\n",
    "print(\"Radius = {}\".format(radius))\n",
    "\n",
    "print(\"area = {} * radius ** 2\".format(3.14))\n",
    "\n",
    "print(\"The area of a circle with radius {} is {} meters square.\".format(10,int(3.14* 10 **2)))"
   ]
  },
  {
   "cell_type": "code",
   "execution_count": 10,
   "id": "50affd01",
   "metadata": {},
   "outputs": [
    {
     "name": "stdout",
     "output_type": "stream",
     "text": [
      "150 155 145 148\n",
      "Values are: [68.03, 70.29, 65.76, 67.12]\n"
     ]
    }
   ],
   "source": [
    "#Creating a list(L1) for weights(lbs) of N students\n",
    "L1=[int(num) for num in input().split(\" \")]\n",
    "#Creating another list called W_kg\n",
    "W_kg=[]\n",
    "#Using for loop to iterate the values and appending the list\n",
    "for i in L1:\n",
    "    W_kg.append(round(i/2.205,2))\n",
    "#Displaying the values in kgs after conversion\n",
    "print (\"Values are:\",W_kg)"
   ]
  },
  {
   "cell_type": "code",
   "execution_count": 11,
   "id": "fe97cdb1",
   "metadata": {},
   "outputs": [
    {
     "name": "stdout",
     "output_type": "stream",
     "text": [
      "--------------------------Predicted-----------------------\n",
      "(6, 0) : dot\n",
      "(2, 0) : dot\n",
      "(10, 0) : dot\n",
      "(3, 0) : dot\n",
      "\n",
      "Accuracy= 0.5\n",
      "\n",
      "Confusison Matrix =\n",
      " [[0 2]\n",
      " [0 2]]\n",
      "\n",
      "specificity= 0.0\n",
      "\n",
      "sensitivity 1.0\n"
     ]
    },
    {
     "name": "stderr",
     "output_type": "stream",
     "text": [
      "C:\\Users\\shiva\\anaconda3\\lib\\site-packages\\sklearn\\neighbors\\_classification.py:228: FutureWarning: Unlike other reduction functions (e.g. `skew`, `kurtosis`), the default behavior of `mode` typically preserves the axis it acts along. In SciPy 1.11.0, this behavior will change: the default value of `keepdims` will become False, the `axis` over which the statistic is taken will be eliminated, and the value None will no longer be accepted. Set `keepdims` to True or False to avoid this warning.\n",
      "  mode, _ = stats.mode(_y[neigh_ind, k], axis=1)\n"
     ]
    }
   ],
   "source": [
    "from sklearn.model_selection import train_test_split\n",
    "from sklearn.neighbors import KNeighborsClassifier\n",
    "\n",
    "X=[(1,0),(2,0),(3,0),(6,0),(6,0),(7,0),(10,0),(11,0)]\n",
    "y=[\"dot\",\"dot\",\"cross\",\"cross\",\"cross\",\"dot\",\"dot\",\"dot\"]\n",
    "\n",
    "X_train,X_test,y_train,y_test = train_test_split(X, y,test_size=0.5,random_state=2)  # dividing into two equal parts\n",
    "\n",
    "knn = KNeighborsClassifier(n_neighbors=3) # given 3 as neigbours in the questioin 10\n",
    "\n",
    "knn.fit(X_train,y_train)\n",
    "\n",
    "predict = knn.predict(X_test)\n",
    "#print(predict)\n",
    "print(\"--------------------------Predicted-----------------------\")\n",
    "for i,j in zip(X_test,predict):\n",
    "  print(i,\":\",j)\n",
    "\n",
    "from sklearn.metrics import accuracy_score\n",
    "from sklearn.metrics import classification_report\n",
    "from sklearn.metrics import confusion_matrix\n",
    "\n",
    "print(\"\\nAccuracy=\",accuracy_score(y_test,predict))\n",
    "\n",
    "print(\"\\nConfusison Matrix =\\n\",confusion_matrix(y_test,predict))\n",
    "\n",
    "tn, fp, fn, tp = confusion_matrix(y_test, predict).ravel()\n",
    "specificity = tn / (tn+fp)\n",
    "print(\"\\nspecificity=\",specificity)\n",
    "\n",
    "sensitivity=tp/(tp+fn)\n",
    "print(\"\\nsensitivity\",sensitivity)"
   ]
  }
 ],
 "metadata": {
  "kernelspec": {
   "display_name": "Python 3 (ipykernel)",
   "language": "python",
   "name": "python3"
  },
  "language_info": {
   "codemirror_mode": {
    "name": "ipython",
    "version": 3
   },
   "file_extension": ".py",
   "mimetype": "text/x-python",
   "name": "python",
   "nbconvert_exporter": "python",
   "pygments_lexer": "ipython3",
   "version": "3.9.13"
  }
 },
 "nbformat": 4,
 "nbformat_minor": 5
}
